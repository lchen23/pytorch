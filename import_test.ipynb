{
 "cells": [
  {
   "cell_type": "code",
   "execution_count": 1,
   "metadata": {},
   "outputs": [
    {
     "ename": "ImportError",
     "evalue": "DLL load failed: The operating system cannot run %1.",
     "output_type": "error",
     "traceback": [
      "\u001b[1;31m---------------------------------------------------------------------------\u001b[0m",
      "\u001b[1;31mImportError\u001b[0m                               Traceback (most recent call last)",
      "\u001b[1;32m<ipython-input-1-eb42ca6e4af3>\u001b[0m in \u001b[0;36m<module>\u001b[1;34m()\u001b[0m\n\u001b[1;32m----> 1\u001b[1;33m \u001b[1;32mimport\u001b[0m \u001b[0mtorch\u001b[0m\u001b[1;33m\u001b[0m\u001b[0m\n\u001b[0m",
      "\u001b[1;32mC:\\ProgramData\\Anaconda3\\envs\\fastai-cpu\\lib\\site-packages\\torch\\__init__.py\u001b[0m in \u001b[0;36m<module>\u001b[1;34m()\u001b[0m\n\u001b[0;32m     76\u001b[0m     \u001b[1;32mpass\u001b[0m\u001b[1;33m\u001b[0m\u001b[0m\n\u001b[0;32m     77\u001b[0m \u001b[1;33m\u001b[0m\u001b[0m\n\u001b[1;32m---> 78\u001b[1;33m \u001b[1;32mfrom\u001b[0m \u001b[0mtorch\u001b[0m\u001b[1;33m.\u001b[0m\u001b[0m_C\u001b[0m \u001b[1;32mimport\u001b[0m \u001b[1;33m*\u001b[0m\u001b[1;33m\u001b[0m\u001b[0m\n\u001b[0m\u001b[0;32m     79\u001b[0m \u001b[1;33m\u001b[0m\u001b[0m\n\u001b[0;32m     80\u001b[0m __all__ += [name for name in dir(_C)\n",
      "\u001b[1;31mImportError\u001b[0m: DLL load failed: The operating system cannot run %1."
     ]
    }
   ],
   "source": [
    "import torch"
   ]
  },
  {
   "cell_type": "code",
   "execution_count": 2,
   "metadata": {
    "scrolled": true
   },
   "outputs": [
    {
     "name": "stdout",
     "output_type": "stream",
     "text": [
      "C:\\Windows\\System32\\locale.nls\n",
      "C:\\Windows\\Globalization\\Sorting\\SortDefault.nls\n",
      "C:\\Windows\\System32\\en-US\\KernelBase.dll.mui\n",
      "C:\\Windows\\System32\\en-US\\kernel32.dll.mui\n",
      "C:\\ProgramData\\Anaconda3\\envs\\fastai-cpu\\python.exe\n",
      "C:\\ProgramData\\Anaconda3\\envs\\fastai-cpu\\python36.dll\n",
      "C:\\ProgramData\\Anaconda3\\envs\\fastai-cpu\\DLLs\\unicodedata.pyd\n",
      "C:\\ProgramData\\Anaconda3\\envs\\fastai-cpu\\DLLs\\_sqlite3.pyd\n",
      "C:\\ProgramData\\Anaconda3\\envs\\fastai-cpu\\DLLs\\_multiprocessing.pyd\n",
      "C:\\ProgramData\\Anaconda3\\envs\\fastai-cpu\\DLLs\\_decimal.pyd\n",
      "C:\\ProgramData\\Anaconda3\\envs\\fastai-cpu\\DLLs\\_ctypes.pyd\n",
      "C:\\ProgramData\\Anaconda3\\envs\\fastai-cpu\\DLLs\\_socket.pyd\n",
      "C:\\ProgramData\\Anaconda3\\envs\\fastai-cpu\\DLLs\\_bz2.pyd\n",
      "C:\\ProgramData\\Anaconda3\\envs\\fastai-cpu\\DLLs\\select.pyd\n",
      "C:\\Program Files (x86)\\Sophos\\Sophos Anti-Virus\\sophos_detoured_x64.dll\n",
      "C:\\Windows\\System32\\user32.dll\n",
      "C:\\Windows\\System32\\kernel32.dll\n",
      "C:\\Windows\\System32\\ntdll.dll\n",
      "C:\\Windows\\System32\\psapi.dll\n",
      "C:\\ProgramData\\Anaconda3\\envs\\fastai-cpu\\Library\\bin\\mkl_rt.dll\n",
      "C:\\ProgramData\\Anaconda3\\envs\\fastai-cpu\\Lib\\site-packages\\numpy\\core\\multiarray.cp36-win_amd64.pyd\n",
      "C:\\ProgramData\\Anaconda3\\envs\\fastai-cpu\\DLLs\\_hashlib.pyd\n",
      "C:\\ProgramData\\Anaconda3\\envs\\fastai-cpu\\Lib\\site-packages\\numpy\\random\\mtrand.cp36-win_amd64.pyd\n",
      "C:\\ProgramData\\Anaconda3\\envs\\fastai-cpu\\Lib\\site-packages\\numpy\\core\\umath.cp36-win_amd64.pyd\n",
      "C:\\ProgramData\\Anaconda3\\envs\\fastai-cpu\\DLLs\\sqlite3.dll\n",
      "C:\\ProgramData\\Anaconda3\\envs\\fastai-cpu\\Lib\\site-packages\\psutil\\_psutil_windows.cp36-win_amd64.pyd\n",
      "C:\\ProgramData\\Anaconda3\\envs\\fastai-cpu\\Lib\\site-packages\\numpy\\core\\multiarray_tests.cp36-win_amd64.pyd\n",
      "C:\\ProgramData\\Anaconda3\\envs\\fastai-cpu\\Lib\\site-packages\\mkl_fft\\_pydfti.cp36-win_amd64.pyd\n",
      "C:\\ProgramData\\Anaconda3\\envs\\fastai-cpu\\Lib\\site-packages\\numpy\\fft\\fftpack_lite.cp36-win_amd64.pyd\n",
      "C:\\ProgramData\\Anaconda3\\envs\\fastai-cpu\\Lib\\site-packages\\numpy\\_mklinit.cp36-win_amd64.pyd\n",
      "C:\\ProgramData\\Anaconda3\\envs\\fastai-cpu\\Lib\\site-packages\\numpy\\linalg\\_umath_linalg.cp36-win_amd64.pyd\n",
      "C:\\ProgramData\\Anaconda3\\envs\\fastai-cpu\\Lib\\site-packages\\numpy\\linalg\\lapack_lite.cp36-win_amd64.pyd\n",
      "C:\\ProgramData\\Anaconda3\\envs\\fastai-cpu\\Lib\\site-packages\\zmq\\backend\\cython\\_device.cp36-win_amd64.pyd\n",
      "C:\\ProgramData\\Anaconda3\\envs\\fastai-cpu\\Lib\\site-packages\\zmq\\backend\\cython\\_version.cp36-win_amd64.pyd\n",
      "C:\\ProgramData\\Anaconda3\\envs\\fastai-cpu\\Lib\\site-packages\\zmq\\backend\\cython\\_poll.cp36-win_amd64.pyd\n",
      "C:\\ProgramData\\Anaconda3\\envs\\fastai-cpu\\Library\\bin\\msvcp140.dll\n",
      "C:\\ProgramData\\Anaconda3\\envs\\fastai-cpu\\Lib\\site-packages\\zmq\\backend\\cython\\utils.cp36-win_amd64.pyd\n",
      "C:\\ProgramData\\Anaconda3\\envs\\fastai-cpu\\Lib\\site-packages\\zmq\\backend\\cython\\socket.cp36-win_amd64.pyd\n",
      "C:\\ProgramData\\Anaconda3\\envs\\fastai-cpu\\Lib\\site-packages\\zmq\\backend\\cython\\context.cp36-win_amd64.pyd\n",
      "C:\\ProgramData\\Anaconda3\\envs\\fastai-cpu\\Lib\\site-packages\\zmq\\backend\\cython\\message.cp36-win_amd64.pyd\n",
      "C:\\ProgramData\\Anaconda3\\envs\\fastai-cpu\\Library\\bin\\libzmq-mt-4_2_5.dll\n",
      "C:\\ProgramData\\Anaconda3\\envs\\fastai-cpu\\Lib\\site-packages\\zmq\\backend\\cython\\error.cp36-win_amd64.pyd\n",
      "C:\\ProgramData\\Anaconda3\\envs\\fastai-cpu\\Lib\\site-packages\\zmq\\backend\\cython\\constants.cp36-win_amd64.pyd\n",
      "C:\\ProgramData\\Anaconda3\\envs\\fastai-cpu\\Lib\\site-packages\\tornado\\speedups.cp36-win_amd64.pyd\n",
      "C:\\ProgramData\\Anaconda3\\envs\\fastai-cpu\\DLLs\\_lzma.pyd\n",
      "C:\\ProgramData\\Anaconda3\\envs\\fastai-cpu\\python3.dll\n",
      "C:\\ProgramData\\Anaconda3\\envs\\fastai-cpu\\api-ms-win-crt-filesystem-l1-1-0.dll\n",
      "C:\\ProgramData\\Anaconda3\\envs\\fastai-cpu\\api-ms-win-crt-conio-l1-1-0.dll\n",
      "C:\\ProgramData\\Anaconda3\\envs\\fastai-cpu\\api-ms-win-crt-process-l1-1-0.dll\n",
      "C:\\ProgramData\\Anaconda3\\envs\\fastai-cpu\\api-ms-win-crt-environment-l1-1-0.dll\n",
      "C:\\ProgramData\\Anaconda3\\envs\\fastai-cpu\\api-ms-win-crt-time-l1-1-0.dll\n",
      "C:\\ProgramData\\Anaconda3\\envs\\fastai-cpu\\api-ms-win-crt-locale-l1-1-0.dll\n",
      "C:\\ProgramData\\Anaconda3\\envs\\fastai-cpu\\api-ms-win-crt-math-l1-1-0.dll\n",
      "C:\\ProgramData\\Anaconda3\\envs\\fastai-cpu\\api-ms-win-crt-convert-l1-1-0.dll\n",
      "C:\\ProgramData\\Anaconda3\\envs\\fastai-cpu\\api-ms-win-crt-stdio-l1-1-0.dll\n",
      "C:\\ProgramData\\Anaconda3\\envs\\fastai-cpu\\api-ms-win-crt-heap-l1-1-0.dll\n",
      "C:\\ProgramData\\Anaconda3\\envs\\fastai-cpu\\api-ms-win-crt-string-l1-1-0.dll\n",
      "C:\\ProgramData\\Anaconda3\\envs\\fastai-cpu\\ucrtbase.dll\n",
      "C:\\ProgramData\\Anaconda3\\envs\\fastai-cpu\\api-ms-win-core-file-l1-2-0.dll\n",
      "C:\\ProgramData\\Anaconda3\\envs\\fastai-cpu\\api-ms-win-core-processthreads-l1-1-1.dll\n",
      "C:\\ProgramData\\Anaconda3\\envs\\fastai-cpu\\api-ms-win-core-synch-l1-2-0.dll\n",
      "C:\\ProgramData\\Anaconda3\\envs\\fastai-cpu\\api-ms-win-core-localization-l1-2-0.dll\n",
      "C:\\ProgramData\\Anaconda3\\envs\\fastai-cpu\\api-ms-win-core-file-l2-1-0.dll\n",
      "C:\\ProgramData\\Anaconda3\\envs\\fastai-cpu\\api-ms-win-core-timezone-l1-1-0.dll\n",
      "C:\\ProgramData\\Anaconda3\\envs\\fastai-cpu\\api-ms-win-crt-runtime-l1-1-0.dll\n",
      "C:\\ProgramData\\Anaconda3\\envs\\fastai-cpu\\vcruntime140.dll\n",
      "C:\\Windows\\System32\\api-ms-win-crt-multibyte-l1-1-0.dll\n",
      "C:\\Windows\\System32\\dhcpcsvc.dll\n",
      "C:\\Windows\\System32\\dhcpcsvc6.dll\n",
      "C:\\Windows\\System32\\api-ms-win-crt-utility-l1-1-0.dll\n",
      "C:\\Windows\\System32\\powrprof.dll\n",
      "C:\\Windows\\System32\\winnsi.dll\n",
      "C:\\Windows\\System32\\IPHLPAPI.DLL\n",
      "C:\\Windows\\System32\\wtsapi32.dll\n",
      "C:\\Windows\\System32\\WSHTCPIP.DLL\n",
      "C:\\ProgramData\\Sophos\\Web Intelligence\\swi_ifslsp_64.dll\n",
      "C:\\Windows\\System32\\version.dll\n",
      "C:\\Windows\\System32\\rsaenh.dll\n",
      "C:\\Windows\\System32\\mswsock.dll\n",
      "C:\\Windows\\System32\\cryptsp.dll\n",
      "C:\\Windows\\System32\\apphelp.dll\n",
      "C:\\Windows\\System32\\cryptbase.dll\n",
      "C:\\Windows\\System32\\devobj.dll\n",
      "C:\\Windows\\System32\\cfgmgr32.dll\n",
      "C:\\Windows\\System32\\KernelBase.dll\n",
      "C:\\Windows\\System32\\shlwapi.dll\n",
      "C:\\Windows\\System32\\imm32.dll\n",
      "C:\\Windows\\System32\\advapi32.dll\n",
      "C:\\Windows\\System32\\lpk.dll\n",
      "C:\\Windows\\System32\\sechost.dll\n",
      "C:\\Windows\\System32\\gdi32.dll\n",
      "C:\\Windows\\System32\\shell32.dll\n",
      "C:\\Windows\\System32\\rpcrt4.dll\n",
      "C:\\Windows\\System32\\msctf.dll\n",
      "C:\\Windows\\System32\\setupapi.dll\n",
      "C:\\Windows\\System32\\ole32.dll\n",
      "C:\\Windows\\System32\\oleaut32.dll\n",
      "C:\\Windows\\System32\\msvcrt.dll\n",
      "C:\\Windows\\System32\\nsi.dll\n",
      "C:\\Windows\\System32\\ws2_32.dll\n",
      "C:\\Windows\\System32\\usp10.dll\n",
      "C:\\Windows\\System32\\apisetschema.dll\n"
     ]
    }
   ],
   "source": [
    "import psutil, os\n",
    "p = psutil.Process( os.getpid() )\n",
    "for dll in p.memory_maps():\n",
    "    print(dll.path)\n"
   ]
  },
  {
   "cell_type": "code",
   "execution_count": 4,
   "metadata": {},
   "outputs": [
    {
     "name": "stdout",
     "output_type": "stream",
     "text": [
      "Solving environment: ...working... done\n",
      "\n",
      "# All requested packages already installed.\n",
      "\n"
     ]
    }
   ],
   "source": [
    "! conda install intel-openmp mkl"
   ]
  },
  {
   "cell_type": "code",
   "execution_count": null,
   "metadata": {},
   "outputs": [],
   "source": [
    "! conda install mkl-fft"
   ]
  },
  {
   "cell_type": "code",
   "execution_count": 2,
   "metadata": {},
   "outputs": [],
   "source": [
    "# from fastai.imports import *\n",
    "# from fastai.transforms import *\n",
    "# from fastai.conv_learner import *\n",
    "# from fastai.model import *\n",
    "# from fastai.dataset import *\n",
    "# from fastai.sgdr import *\n",
    "# from fastai.plots import *\n"
   ]
  }
 ],
 "metadata": {
  "kernelspec": {
   "display_name": "Python 3",
   "language": "python",
   "name": "python3"
  },
  "language_info": {
   "codemirror_mode": {
    "name": "ipython",
    "version": 3
   },
   "file_extension": ".py",
   "mimetype": "text/x-python",
   "name": "python",
   "nbconvert_exporter": "python",
   "pygments_lexer": "ipython3",
   "version": "3.6.5"
  }
 },
 "nbformat": 4,
 "nbformat_minor": 2
}
